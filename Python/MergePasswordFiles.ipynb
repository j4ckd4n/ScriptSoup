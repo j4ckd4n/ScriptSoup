{
 "cells": [
  {
   "cell_type": "code",
   "execution_count": 26,
   "metadata": {},
   "outputs": [],
   "source": [
    "import os"
   ]
  },
  {
   "cell_type": "markdown",
   "metadata": {},
   "source": [
    "# Info\n",
    "\n",
    "This simply takes all text files in the `password_path` directory, deduplicates them and saves them into `combined_passwords.txt` file."
   ]
  },
  {
   "cell_type": "code",
   "execution_count": 1,
   "metadata": {},
   "outputs": [],
   "source": [
    "password_path = '<path>/SecLists/Passwords/'\n",
    "combined_passwords = '<path>/combined_passwords.txt'"
   ]
  },
  {
   "cell_type": "code",
   "execution_count": 28,
   "metadata": {},
   "outputs": [
    {
     "name": "stdout",
     "output_type": "stream",
     "text": [
      "Finished processing 10-million-password-list-top-100.txt\n",
      "Finished processing 10-million-password-list-top-1000.txt\n",
      "Finished processing 10-million-password-list-top-10000.txt\n",
      "Finished processing 10-million-password-list-top-100000.txt\n",
      "Finished processing 10-million-password-list-top-1000000.txt\n",
      "Finished processing 10-million-password-list-top-500.txt\n",
      "Finished processing 100k-most-used-passwords-NCSC.txt\n",
      "Finished processing 10k-most-common.txt\n",
      "Finished processing 1337speak.txt\n",
      "Finished processing 1900-2020.txt\n",
      "Finished processing 2020-200_most_used_passwords.txt\n",
      "Finished processing 2023-200_most_used_passwords.txt\n",
      "Finished processing 500-worst-passwords.txt\n",
      "Finished processing best1050.txt\n",
      "Finished processing best110.txt\n",
      "Finished processing best15.txt\n",
      "Finished processing BiblePass_part01.txt\n",
      "Finished processing BiblePass_part02.txt\n",
      "Finished processing BiblePass_part03.txt\n",
      "Finished processing BiblePass_part04.txt\n",
      "Finished processing BiblePass_part05.txt\n",
      "Finished processing BiblePass_part06.txt\n",
      "Finished processing BiblePass_part07.txt\n",
      "Finished processing BiblePass_part08.txt\n",
      "Finished processing BiblePass_part09.txt\n",
      "Finished processing BiblePass_part10.txt\n",
      "Finished processing BiblePass_part11.txt\n",
      "Finished processing BiblePass_part12.txt\n",
      "Finished processing BiblePass_part13.txt\n",
      "Finished processing BiblePass_part14.txt\n",
      "Finished processing BiblePass_part15.txt\n",
      "Finished processing BiblePass_part16.txt\n",
      "Finished processing BiblePass_part17.txt\n",
      "Finished processing bt4-password.txt\n",
      "Finished processing cirt-default-passwords.txt\n",
      "Finished processing citrix.txt\n",
      "Finished processing clarkson-university-82.txt\n",
      "Finished processing combined_passwords.txt\n",
      "Finished processing common-passwords-win.txt\n",
      "Finished processing darkc0de.txt\n",
      "Finished processing darkweb2017-top10.txt\n",
      "Finished processing darkweb2017-top100.txt\n",
      "Finished processing darkweb2017-top1000.txt\n",
      "Finished processing darkweb2017-top10000.txt\n",
      "Finished processing days.txt\n",
      "Finished processing der-postillon.txt\n",
      "Finished processing dutch_common_wordlist.txt\n",
      "Finished processing dutch_passwordlist.txt\n",
      "Finished processing dutch_wordlist.txt\n",
      "Finished processing german_misc.txt\n",
      "Finished processing greatest_books_of_all_time_lowercase.txt\n",
      "Finished processing greatest_books_of_all_time_original.txt\n",
      "Finished processing greatest_books_of_all_time_uppercase.txt\n",
      "Finished processing greatest_books_of_all_time_with_leet_variations.txt\n",
      "Finished processing ignis-100K.txt\n",
      "Finished processing Keyboard-Combinations.txt\n",
      "Finished processing korelogic-password.txt\n",
      "Finished processing medical-devices.txt\n",
      "Finished processing milw0rm-dictionary.txt\n",
      "Finished processing months.txt\n",
      "Finished processing Most-Popular-Letter-Passes.txt\n",
      "Finished processing mssql-passwords-nansh0u-guardicore.txt\n",
      "Finished processing multiplesources-passwords-fabian-fingerle.de.txt\n",
      "Finished processing openwall.net-all.txt\n",
      "Finished processing password-permutations.txt\n",
      "Finished processing probable-v2-top12000.txt\n",
      "Finished processing probable-v2-top1575.txt\n",
      "Finished processing probable-v2-top207.txt\n",
      "Finished processing probable-v2-wpa-top447.txt\n",
      "Finished processing probable-v2-wpa-top4800.txt\n",
      "Finished processing probable-v2-wpa-top62.txt\n",
      "Finished processing richelieu-french-top20000.txt\n",
      "Finished processing richelieu-french-top5000.txt\n",
      "Finished processing scraped-JWT-secrets.txt\n",
      "Finished processing seasons.txt\n",
      "Finished processing SplashData-2014.txt\n",
      "Finished processing SplashData-2015-1.txt\n",
      "Finished processing SplashData-2015-2.txt\n",
      "Finished processing stupid-ones-in-production.txt\n",
      "Finished processing Sucuri-Top-Wordpress-Passwords.txt\n",
      "Finished processing top-20-common-SSH-passwords.txt\n",
      "Finished processing top-passwords-shortlist.txt\n",
      "Finished processing twitter-banned.txt\n",
      "Finished processing unkown-azul.txt\n",
      "Finished processing UserPassCombo-Jay.txt\n",
      "Finished processing walk-the-line.txt\n",
      "Finished processing wikipedia_de_vowels_no_compounds_top-1000000.txt\n",
      "Finished processing wikipedia_en_vowels_no_compounds_top-1000000.txt\n",
      "Finished processing wikipedia_es_vowels_no_compounds_top-1000000.txt\n",
      "Finished processing wikipedia_fr_vowels_no_compounds_top-1000000.txt\n",
      "Finished processing wikipedia_pt_vowels_no_compounds_top-1000000.txt\n",
      "Finished processing wikipedia_tr_vowels_no_compounds_top-1000000.txt\n",
      "Finished processing wordpress-attacks-july2014.txt\n",
      "Finished processing worst-passwords-2017-top100-slashdata.txt\n",
      "Finished processing xato-net-10-million-passwords-10.txt\n",
      "Finished processing xato-net-10-million-passwords-100.txt\n",
      "Finished processing xato-net-10-million-passwords-1000.txt\n",
      "Finished processing xato-net-10-million-passwords-10000.txt\n",
      "Finished processing xato-net-10-million-passwords-100000.txt\n",
      "Finished processing xato-net-10-million-passwords-1000000.txt\n",
      "Finished processing xato-net-10-million-passwords-dup.txt\n",
      "Finished processing xato-net-10-million-passwords.txt\n",
      "Finished combining all password lists\n"
     ]
    }
   ],
   "source": [
    "text_files = [f for f in os.listdir(password_path) if f.endswith('.txt')]\n",
    "if(os.path.exists(combined_passwords)):\n",
    "  os.remove(combined_passwords)\n",
    "for file in text_files:\n",
    "  with open(password_path + file, 'rb') as f:\n",
    "    with open(combined_passwords, 'ab') as f1:\n",
    "      f1.write(f.read())\n",
    "  print(f'Finished processing {file}')\n",
    "print('Finished combining all password lists')"
   ]
  },
  {
   "cell_type": "code",
   "execution_count": null,
   "metadata": {},
   "outputs": [],
   "source": [
    "passwords = []\n",
    "with open(combined_passwords, 'rb') as f:\n",
    "  for line in f:\n",
    "    passwords.append(line.strip())\n",
    "\n",
    "print(f\"Original size: {len(passwords)}\")\n",
    "passwords = list(set(passwords))\n",
    "print(f\"Filtered size: {len(passwords)}\")\n",
    "with open(combined_passwords, 'wb') as f:\n",
    "  for password in passwords:\n",
    "    f.write(password + b'\\n')\n",
    "print('Finished filtering duplicate passwords')\n",
    "\n",
    "del passwords"
   ]
  },
  {
   "cell_type": "code",
   "execution_count": null,
   "metadata": {},
   "outputs": [],
   "source": []
  }
 ],
 "metadata": {
  "kernelspec": {
   "display_name": "Python",
   "language": "python",
   "name": "python3"
  },
  "language_info": {
   "codemirror_mode": {
    "name": "ipython",
    "version": 3
   },
   "file_extension": ".py",
   "mimetype": "text/x-python",
   "name": "python",
   "nbconvert_exporter": "python",
   "pygments_lexer": "ipython3",
   "version": "3.11.5"
  }
 },
 "nbformat": 4,
 "nbformat_minor": 2
}
