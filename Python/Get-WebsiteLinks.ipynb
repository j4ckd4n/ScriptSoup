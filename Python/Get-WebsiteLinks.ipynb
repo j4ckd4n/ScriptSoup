{
 "cells": [
  {
   "cell_type": "code",
   "execution_count": null,
   "metadata": {},
   "outputs": [],
   "source": [
    "import requests\n",
    "import pandas as pd\n",
    "import matplotlib.pyplot as plt\n",
    "import networkx as nx\n",
    "from bs4 import BeautifulSoup as bs\n",
    "import json\n"
   ]
  },
  {
   "cell_type": "code",
   "execution_count": null,
   "metadata": {},
   "outputs": [],
   "source": [
    "website = \"https://pypi.org\""
   ]
  },
  {
   "cell_type": "code",
   "execution_count": null,
   "metadata": {},
   "outputs": [],
   "source": [
    "class Tree:\n",
    "  def __init__(self, value):\n",
    "    self.value = value\n",
    "    self.children = []\n",
    "    self.parent = None\n",
    "  \n",
    "  def add_child(self, child):\n",
    "    child.parent = self\n",
    "    self.children.append(child)\n",
    "  \n",
    "  def remove_child(self, child):\n",
    "    if child in self.children:\n",
    "      child.parent = None\n",
    "      self.children.remove(child)\n",
    "\n",
    "  def __repr__(self):\n",
    "    return f'TreeNode({self.value})'\n",
    "\n",
    "  def __str__(self, level=0):\n",
    "    ret = \" \" + str(level) + repr(self) + \"\\n\"\n",
    "    for child in self.children:\n",
    "      ret += child.__str__(level + 1)\n",
    "    return ret\n",
    "\n",
    "# Get the list of all packages\n"
   ]
  },
  {
   "cell_type": "code",
   "execution_count": null,
   "metadata": {},
   "outputs": [],
   "source": [
    "def build_graph(node, graph, pos={}, level=0, x=0, width=1., vert_gap = 0.2):\n",
    "  pos[node.value] = (x, level)\n",
    "  for i, child in enumerate(node.children):\n",
    "    _x = x - width/2. + (i+0.5)*width/len(node.children)\n",
    "    pos = build_graph(child, graph, pos=pos, level=level-vert_gap, x=_x, width=width/2.)\n",
    "    graph.add_edge(node.value, child.value)\n",
    "  return pos\n",
    "\n",
    "def draw_tree(root):\n",
    "  graph = nx.DiGraph()\n",
    "  pos = build_graph(root, graph)\n",
    "  nx.draw(graph, pos, with_labels=True, arrows=False)\n",
    "  plt.show()"
   ]
  },
  {
   "cell_type": "code",
   "execution_count": null,
   "metadata": {},
   "outputs": [],
   "source": [
    "def get_href(root, website,idx=0,max_depth=2,verbose=False):\n",
    "  tree_node = Tree(website)\n",
    "  if idx >= max_depth:\n",
    "    print(f\"Max depth reached for {website}\")\n",
    "    return None\n",
    "  idx += 1\n",
    "  if verbose:\n",
    "    print(f\"Getting hrefs from {website}\")\n",
    "  r = requests.get(website, headers={\"User-Agent\":\"Mozilla/5.0 (Windows NT 10.0; Win64; x64) AppleWebKit/537.36 (KHTML, like Gecko) Chrome/58.0.3029.110 Safari/537.3\"})\n",
    "  if not r.ok:\n",
    "    print(f\"Failed to get {website}. Status code: {r.status_code}\")\n",
    "    return None\n",
    "  soup = bs(r.text,\"html.parser\")\n",
    "  href_links = [href.get(\"href\") for href in soup.find_all(\"a\")]\n",
    "  # filter out None and empty strings\n",
    "  href_links = [link for link in href_links if link]\n",
    "  href_links = [(root + link) for link in href_links if link.startswith(\"/\") and '#' not in link and not len(link) == 1]\n",
    "  for link in href_links:\n",
    "    tree_node.add_child(Tree(get_href(root,link,idx,max_depth,verbose)))\n",
    "  return tree_node"
   ]
  },
  {
   "cell_type": "code",
   "execution_count": null,
   "metadata": {},
   "outputs": [],
   "source": [
    "nodes = get_href(website,website,max_depth=3,verbose=True)\n",
    "if(nodes is not None):\n",
    "  draw_tree(nodes)"
   ]
  },
  {
   "cell_type": "code",
   "execution_count": null,
   "metadata": {},
   "outputs": [],
   "source": []
  }
 ],
 "metadata": {
  "kernelspec": {
   "display_name": "Python",
   "language": "python",
   "name": "python3"
  },
  "language_info": {
   "codemirror_mode": {
    "name": "ipython",
    "version": 3
   },
   "file_extension": ".py",
   "mimetype": "text/x-python",
   "name": "python",
   "nbconvert_exporter": "python",
   "pygments_lexer": "ipython3",
   "version": "3.11.5"
  }
 },
 "nbformat": 4,
 "nbformat_minor": 2
}
